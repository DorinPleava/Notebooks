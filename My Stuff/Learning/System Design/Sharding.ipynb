{
 "cells": [
  {
   "cell_type": "markdown",
   "id": "16c9e6d5",
   "metadata": {},
   "source": [
    "Sharding / Data Partitioning\n",
    "====\n",
    "\n",
    "## Partitioning methods\n",
    "- Horizontal partitioning\n",
    "  - Range based sharding.\n",
    "  - Put different rows into different tables.\n",
    "  - Con\n",
    "    - If the value whose range is used for sharding isn’t chosen carefully, the partitioning scheme will lead to unbalanced servers.\n",
    "- Vertical partitioning\n",
    "  - Divide data for a specific feature to their own server.\n",
    "  - Pro\n",
    "    - Straightforward to implement.\n",
    "    - Low impact on the application.\n",
    "  - Con\n",
    "    - To support growth of the application, a database may need further partitioning.\n",
    "- Directory-based partitioning\n",
    "  - A lookup service that knows the partitioning scheme and abstracts it away from the database access code.\n",
    "  - Allow addition of db servers or change of partitioning schema without impacting application.\n",
    "  - Con\n",
    "    - Can be a single point of failure.\n",
    "\n",
    "## Partitioning criteria\n",
    "- Key or hash-based partitioning\n",
    "  - Apply a hash function to some key attribute of the entry to get the partition number.\n",
    "  - Problem\n",
    "    - Adding new servers may require changing the hash function, which would need redistribution of data and downtime for the service.\n",
    "    - Workaround: [consistent hashing](https://en.wikipedia.org/wiki/Consistent_hashing).\n",
    "- List partitioning\n",
    "  - Each partition is assigned a list of values.\n",
    "- Round-robin partitioning\n",
    "  - With `n` partitions, the `i` tuple is assigned to partition `i % n`.\n",
    "- Composite partitioning\n",
    "  - Combine any of above partitioning schemes to devise a new scheme.\n",
    "  - Consistent hashing is a composite of hash and list partitioning.\n",
    "    - Key -> reduced key space through hash -> list -> partition.\n",
    "\n",
    "## Common problems of sharding\n",
    "Most of the constraints are due to the fact that operations across multiple tables or multiple rows in the same table will no longer run on the same server.\n",
    "\n",
    "- Joins and denormalization\n",
    "  - Joins will not be performance efficient since data has to be compiled from multiple servers.\n",
    "  - Workaround: denormalize the database so that queries can be performed from a single table. But this can lead to data inconsistency.\n",
    "- Referential integrity\n",
    "  - Difficult to enforce data integrity constraints (e.g. foreign keys).\n",
    "  - Workaround\n",
    "    - Referential integrity is enforced by application code.\n",
    "    - Applications can run SQL jobs to clean up dangling references.\n",
    "- Rebalancing\n",
    "  - Necessity of rebalancing\n",
    "    - Data distribution is not uniform.\n",
    "    - A lot of load on one shard.\n",
    "  - Create more db shards or rebalance existing shards changes partitioning scheme and requires data movement."
   ]
  }
 ],
 "metadata": {
  "kernelspec": {
   "display_name": "Python 3 (ipykernel)",
   "language": "python",
   "name": "python3"
  },
  "language_info": {
   "codemirror_mode": {
    "name": "ipython",
    "version": 3
   },
   "file_extension": ".py",
   "mimetype": "text/x-python",
   "name": "python",
   "nbconvert_exporter": "python",
   "pygments_lexer": "ipython3",
   "version": "3.9.7"
  }
 },
 "nbformat": 4,
 "nbformat_minor": 5
}
