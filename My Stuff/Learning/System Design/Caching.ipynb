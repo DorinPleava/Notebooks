{
 "cells": [
  {
   "cell_type": "markdown",
   "id": "1023af17",
   "metadata": {},
   "source": []
  },
  {
   "cell_type": "markdown",
   "id": "7baba4f4",
   "metadata": {},
   "source": []
  },
  {
   "cell_type": "markdown",
   "id": "87e2ea9a",
   "metadata": {},
   "source": []
  },
  {
   "cell_type": "markdown",
   "id": "c189262a",
   "metadata": {},
   "source": []
  },
  {
   "attachments": {},
   "cell_type": "markdown",
   "id": "a084f69e",
   "metadata": {},
   "source": [
    "# Cache writing policies\n",
    "\n",
    "- ### __write-behind__ cache\n",
    "    - writes first to the cache, and then to the primary datastore. This can either mean that the primary data store is updated almost immediately, or that the data is not persisted until the cache entry is replaced, in which case it’s tagged with a dirty bit to keep track that the data is out of sync\n",
    "- ### __write-around__ cache design\n",
    "    - the application writes directly to the primary datastore, and the cache checks with the primary datastore to keep the cached data valid. If the application is accessing the newest data, the cache might be behind, but the write doesn’t have to wait on two systems being updated and the primary datastore is always up to date. \n",
    "- ### __write-through__ cache\n",
    "    - updates both the cache data and the backing data at the same time. If the cache layer fails, then the update isn’t lost because it’s been persisted. In exchange, the write takes longer to succeed because it needs to update the slower memory"
   ]
  },
  {
   "cell_type": "markdown",
   "id": "d835c1bd",
   "metadata": {},
   "source": [
    "# Cache replacement policies\n",
    "\n",
    "- ### __LRU - least recently used__\n",
    "    - the entry in the cache that is the oldest will be freed\n",
    "    - To implement LRU the cache keeps track of recency with aging bits that need to get updated on every entry every time data is accessed. Although LRU makes efficient decisions about what data to remove, the computational overhead of keeping track of the aging bits leads to approximations like the clock replacement policy. \n",
    "        - A clock replacement policy approximates LRU with a clock pointer that cycles sequentially through the cache looking for an available entry. As the pointer passes an in-use entry, it marks the stale bit, which gets reset whenever the entry is accessed again. If the clock pointer ever finds an entry with a positive stale bit, it means the cached data hasn’t been accessed for an entire cycle of the clock, so the entry is freed and used as the next available entry. \n",
    "    - LRU-based algorithms are well suited for applications where the oldest data are the least likely to be used again. For example, a local news outlet where users mostly access today’s news could use a CDN with LRU replacement to make today’s news faster to load. After that day has passed, it becomes less likely that the news article is accessed again, so it can be freed from the cache to make space for the next day’s news. \n",
    "- ### LFU - least frequently used\n",
    "    - the entry in the cache that has been used the least frequently will be freed.\n",
    "    - Frequency is tracked with a simple access count in the entry metadata. \n",
    "- ### Balancing LRU and LFU\n",
    "- ### Expiration policies"
   ]
  },
  {
   "cell_type": "markdown",
   "id": "d5fb4479",
   "metadata": {},
   "source": [
    "# BLABLA\n",
    "\n",
    " - It’s important to note that caches should not be used as permanent data storage - they are almost always implemented in volatile memory because it is faster, and should thus be considered transient."
   ]
  }
 ],
 "metadata": {
  "kernelspec": {
   "display_name": "Python 3 (ipykernel)",
   "language": "python",
   "name": "python3"
  },
  "language_info": {
   "codemirror_mode": {
    "name": "ipython",
    "version": 3
   },
   "file_extension": ".py",
   "mimetype": "text/x-python",
   "name": "python",
   "nbconvert_exporter": "python",
   "pygments_lexer": "ipython3",
   "version": "3.9.7"
  }
 },
 "nbformat": 4,
 "nbformat_minor": 5
}
