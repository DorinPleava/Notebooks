{
 "cells": [
  {
   "cell_type": "markdown",
   "id": "34e094f7",
   "metadata": {},
   "source": [
    "## How to Start:\n",
    "\n",
    "- Scope the problem\n",
    "    - Don’t make assumptions.\n",
    "    - Ask clarifying questions to understand the constraints and use cases.\n",
    "    - Steps\n",
    "        - Requirements clarifications\n",
    "        - System interface definition\n",
    "- Sketch up an abstract design\n",
    "    - Building blocks of the system\n",
    "    - Relationships between them\n",
    "    - Steps\n",
    "        - Back-of-the-envelope estimation\n",
    "        - Defining data model\n",
    "        - High-level design\n",
    "- Identify and address the bottlenecks\n",
    "    - Use the fundamental principles of scalable system design\n",
    "    - Steps\n",
    "        - Detailed design\n",
    "        - Identifying and resolving bottlenecks"
   ]
  },
  {
   "cell_type": "markdown",
   "id": "f93de2e9",
   "metadata": {},
   "source": [
    "Things to Keep in mind:\n",
    "- single point of failure\n",
    "- 80-20 rule, 20% of stuff(reads, view photos, etc) generates 80% of traffic"
   ]
  },
  {
   "cell_type": "markdown",
   "id": "15b593d0",
   "metadata": {},
   "source": []
  },
  {
   "cell_type": "markdown",
   "id": "e9334686",
   "metadata": {},
   "source": []
  },
  {
   "cell_type": "markdown",
   "id": "72d99382",
   "metadata": {},
   "source": []
  },
  {
   "cell_type": "markdown",
   "id": "881e7d49",
   "metadata": {},
   "source": []
  }
 ],
 "metadata": {
  "kernelspec": {
   "display_name": "Python 3 (ipykernel)",
   "language": "python",
   "name": "python3"
  },
  "language_info": {
   "codemirror_mode": {
    "name": "ipython",
    "version": 3
   },
   "file_extension": ".py",
   "mimetype": "text/x-python",
   "name": "python",
   "nbconvert_exporter": "python",
   "pygments_lexer": "ipython3",
   "version": "3.9.7"
  }
 },
 "nbformat": 4,
 "nbformat_minor": 5
}
