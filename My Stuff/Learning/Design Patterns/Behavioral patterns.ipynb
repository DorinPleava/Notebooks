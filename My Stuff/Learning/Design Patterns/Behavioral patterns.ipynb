{
 "cells": [
  {
   "cell_type": "markdown",
   "id": "99e6c8d0",
   "metadata": {},
   "source": [
    "  # Behavioral patterns\n",
    "  ##### These patterns are concerned with algorithms and the assignment of responsibilities between objects."
   ]
  },
  {
   "cell_type": "markdown",
   "id": "c057cb34",
   "metadata": {},
   "source": [
    "## Command"
   ]
  },
  {
   "cell_type": "markdown",
   "id": "b3982d13",
   "metadata": {},
   "source": [
    "## Chain of Responsability"
   ]
  },
  {
   "cell_type": "markdown",
   "id": "b6631970",
   "metadata": {},
   "source": [
    "## Observer"
   ]
  },
  {
   "cell_type": "markdown",
   "id": "e0a34631",
   "metadata": {},
   "source": [
    "## Visitor"
   ]
  },
  {
   "cell_type": "markdown",
   "id": "e62fb4fc",
   "metadata": {},
   "source": [
    "## Strategy"
   ]
  }
 ],
 "metadata": {
  "kernelspec": {
   "display_name": "Ruby 3.1.2",
   "language": "ruby",
   "name": "ruby"
  },
  "language_info": {
   "file_extension": ".rb",
   "mimetype": "application/x-ruby",
   "name": "ruby",
   "version": "3.1.2"
  }
 },
 "nbformat": 4,
 "nbformat_minor": 5
}
