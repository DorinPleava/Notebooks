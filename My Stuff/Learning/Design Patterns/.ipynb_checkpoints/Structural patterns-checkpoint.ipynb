{
 "cells": [
  {
   "cell_type": "markdown",
   "id": "ba501b85",
   "metadata": {},
   "source": [
    "  # Structural  patterns\n",
    "  ##### These patterns explain how to assemble objects and classes into larger structures while keeping these structures flexible and efficient.\n"
   ]
  },
  {
   "cell_type": "markdown",
   "id": "48740d91",
   "metadata": {},
   "source": [
    "## Facade"
   ]
  },
  {
   "cell_type": "markdown",
   "id": "87070ed3",
   "metadata": {},
   "source": []
  },
  {
   "cell_type": "markdown",
   "id": "190b70c6",
   "metadata": {},
   "source": []
  },
  {
   "cell_type": "markdown",
   "id": "0509902f",
   "metadata": {},
   "source": []
  }
 ],
 "metadata": {
  "kernelspec": {
   "display_name": "Ruby 3.1.2",
   "language": "ruby",
   "name": "ruby"
  },
  "language_info": {
   "file_extension": ".rb",
   "mimetype": "application/x-ruby",
   "name": "ruby",
   "version": "3.1.2"
  }
 },
 "nbformat": 4,
 "nbformat_minor": 5
}
