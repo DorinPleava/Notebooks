{
 "cells": [
  {
   "cell_type": "markdown",
   "id": "2869b672",
   "metadata": {},
   "source": [
    "BLABLA\n",
    "\n",
    "Inheritance so that we can use the object in its place. We modify behaviour by composition"
   ]
  },
  {
   "cell_type": "markdown",
   "id": "ba501b85",
   "metadata": {},
   "source": [
    "  # Structural  patterns\n",
    "  ##### These patterns explain how to assemble objects and classes into larger structures while keeping these structures flexible and efficient.\n"
   ]
  },
  {
   "cell_type": "markdown",
   "id": "48740d91",
   "metadata": {},
   "source": [
    "## Facade"
   ]
  },
  {
   "cell_type": "markdown",
   "id": "87070ed3",
   "metadata": {},
   "source": [
    "## Decorator"
   ]
  },
  {
   "cell_type": "markdown",
   "id": "940d8249",
   "metadata": {},
   "source": []
  },
  {
   "cell_type": "markdown",
   "id": "190b70c6",
   "metadata": {},
   "source": [
    "## Composite"
   ]
  },
  {
   "cell_type": "markdown",
   "id": "0509902f",
   "metadata": {},
   "source": [
    "## Adapter"
   ]
  },
  {
   "cell_type": "markdown",
   "id": "44828eb5",
   "metadata": {},
   "source": [
    "## Proxy"
   ]
  }
 ],
 "metadata": {
  "kernelspec": {
   "display_name": "Ruby 3.1.2",
   "language": "ruby",
   "name": "ruby"
  },
  "language_info": {
   "file_extension": ".rb",
   "mimetype": "application/x-ruby",
   "name": "ruby",
   "version": "3.1.2"
  }
 },
 "nbformat": 4,
 "nbformat_minor": 5
}
