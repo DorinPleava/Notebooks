{
 "cells": [
  {
   "cell_type": "code",
   "execution_count": 3,
   "id": "73a69d53",
   "metadata": {},
   "outputs": [
    {
     "data": {
      "text/plain": [
       "[0, 2, 5, 8, 9, 12, 15, 26, 32, 33, 77]"
      ]
     },
     "execution_count": 3,
     "metadata": {},
     "output_type": "execute_result"
    }
   ],
   "source": [
    "def merge_sort(unsorted_array) \n",
    "    # if array only has one element or fewer there is nothing to do\n",
    "    if unsorted_array.length <=1 \n",
    "        return unsorted_array\n",
    "    else \n",
    "        # dividing and then merge-sorting the halves\n",
    "        mid = unsorted_array.length/2\n",
    "        first_half = merge_sort(unsorted_array.slice(0...mid))\n",
    "        second_half = merge_sort(unsorted_array.slice(mid...unsorted_array.length))\n",
    "        merge(first_half, second_half)\n",
    "    end \n",
    "end\n",
    "\n",
    "def merge(left_array, right_array)\n",
    "    sorted_array = []\n",
    "    # If either array is empty we don't need to compare them\n",
    "    while !left_array.empty? && !right_array.empty? do\n",
    "        # we are shifting out the compared/used values so we don't repeat\n",
    "        if left_array[0] < right_array[0]\n",
    "            sorted_array.push(left_array.shift)\n",
    "        else   \n",
    "            sorted_array.push(right_array.shift)\n",
    "        end\n",
    "    end \n",
    "    #concat appends elements of another array to an array\n",
    "    return sorted_array.concat(left_array).concat(right_array)\n",
    "end\n",
    "\n",
    "merge_sort([5,8,0,33,12,15,26,77,32,2,9])"
   ]
  },
  {
   "cell_type": "code",
   "execution_count": 22,
   "id": "bef66821",
   "metadata": {},
   "outputs": [
    {
     "data": {
      "text/plain": [
       "[0, 2, 5, 8, 9, 12, 15, 26, 32, 33, 77]"
      ]
     },
     "execution_count": 22,
     "metadata": {},
     "output_type": "execute_result"
    }
   ],
   "source": [
    "\n",
    "def ms(array)\n",
    "  return array if array.length < 1\n",
    "  mid = array.length/2\n",
    "  first_half = array.slice(..mid)\n",
    "  second_half=array.slice(mid+1..)\n",
    "  first_half = ms(first_half)\n",
    "  second_half = ms(second_half)\n",
    "  merge(first_half, second_half)\n",
    "end\n",
    "\n",
    "def merge(first_arr, second_arr)\n",
    "  sorted_array = []\n",
    "  while !first_arr.empty? && !second_arr.empty? do\n",
    "    if first_arr[0] < second_arr[0]\n",
    "      sorted_array << first_arr.shift\n",
    "    else\n",
    "      sorted_array << second_arr.shift\n",
    "    end\n",
    "  end\n",
    "  sorted_array.concat(first_arr)\n",
    "  sorted_array.concat(second_arr)\n",
    "  sorted_array\n",
    "end\n",
    "\n",
    "merge_sort([5,8,0,33,12,15,26,77,32,2,9])\n"
   ]
  }
 ],
 "metadata": {
  "kernelspec": {
   "display_name": "Ruby 3.1.2",
   "language": "ruby",
   "name": "ruby"
  },
  "language_info": {
   "file_extension": ".rb",
   "mimetype": "application/x-ruby",
   "name": "ruby",
   "version": "3.1.2"
  }
 },
 "nbformat": 4,
 "nbformat_minor": 5
}
