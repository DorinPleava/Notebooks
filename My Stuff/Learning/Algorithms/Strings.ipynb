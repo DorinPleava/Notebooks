{
 "cells": [
  {
   "cell_type": "code",
   "execution_count": 3,
   "id": "4ef2e21d",
   "metadata": {},
   "outputs": [
    {
     "data": {
      "text/plain": [
       "7"
      ]
     },
     "execution_count": 3,
     "metadata": {},
     "output_type": "execute_result"
    }
   ],
   "source": [
    "# There is a string, s, of lowercase English letters that is repeated infinitely many times.\n",
    "# Given an integer, n, find and print the number of letter a's in the first  letters of the infinite string.\n",
    "\n",
    "def repeatedString(s, n)\n",
    "  return n if s=='a'\n",
    "  return 0 if s.length == 1\n",
    "  ocurrence_of_a = 0\n",
    "  if  n % s.length == 0    \n",
    "    if n > s.length\n",
    "      ocurrence_of_a = s.scan(/a/).count * (n/s.length)\n",
    "    else\n",
    "      ocurrence_of_a = s[0,n].scan(/a/).count \n",
    "    end\n",
    "  else\n",
    "    if n > s.length\n",
    "      ocurrence_of_a = s.scan(/a/).count * ((n/s.length))\n",
    "        x = n % s.length   \n",
    "        ocurrence_of_a += s[0,x].scan(/a/).count    \n",
    "    else\n",
    "      ocurrence_of_a = s[0,n].scan(/a/).count \n",
    "    end\n",
    "  end\n",
    "  ocurrence_of_a\n",
    "end\n",
    "\n",
    "repeatedString(\"aba\",10)"
   ]
  }
 ],
 "metadata": {
  "kernelspec": {
   "display_name": "Ruby 3.1.2",
   "language": "ruby",
   "name": "ruby"
  },
  "language_info": {
   "file_extension": ".rb",
   "mimetype": "application/x-ruby",
   "name": "ruby",
   "version": "3.1.2"
  }
 },
 "nbformat": 4,
 "nbformat_minor": 5
}
