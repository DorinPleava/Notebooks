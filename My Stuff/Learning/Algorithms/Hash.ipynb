{
 "cells": [
  {
   "cell_type": "code",
   "execution_count": 4,
   "id": "ba9ad87f",
   "metadata": {},
   "outputs": [
    {
     "name": "stdout",
     "output_type": "stream",
     "text": [
      "my_hash.calculate_hash_value ---> 9815\n",
      "my_hash.lookup ---> 9815\n"
     ]
    }
   ],
   "source": [
    "# hash implementation\n",
    "\n",
    "class HashTable\n",
    "  def initialize\n",
    "    @table = Array.new(9122,nil)\n",
    "  end\n",
    "  \n",
    "  def calculate_hash_value(string)\n",
    "    value = string[0].ord * 100 + string[1].ord\n",
    "    value\n",
    "  end\n",
    "  \n",
    "  def store(string)\n",
    "    hash_value = calculate_hash_value(string)\n",
    "    \n",
    "    if @table[hash_value] != nil\n",
    "      @tabl[hash_value].append(string)\n",
    "    else\n",
    "      @table[hash_value] = [string]\n",
    "    end\n",
    "  end\n",
    "  \n",
    "  def lookup(string)\n",
    "    hash_value = calculate_hash_value(string)\n",
    "    \n",
    "    if @table[hash_value] != nil\n",
    "      if @table[hash_value].include?(string)\n",
    "        return hash_value\n",
    "      end\n",
    "    end\n",
    "    \"String not found\"\n",
    "  end\n",
    "end\n",
    "\n",
    "my_hash = HashTable.new\n",
    "\n",
    "puts \"my_hash.calculate_hash_value ---> #{my_hash.calculate_hash_value(\"asd\")}\"\n",
    "my_hash.store(\"asd\")\n",
    "puts \"my_hash.lookup ---> #{my_hash.lookup(\"asd\")}\""
   ]
  }
 ],
 "metadata": {
  "kernelspec": {
   "display_name": "Ruby 3.1.2",
   "language": "ruby",
   "name": "ruby"
  },
  "language_info": {
   "file_extension": ".rb",
   "mimetype": "application/x-ruby",
   "name": "ruby",
   "version": "3.1.2"
  }
 },
 "nbformat": 4,
 "nbformat_minor": 5
}
