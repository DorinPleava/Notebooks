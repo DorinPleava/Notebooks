{
 "cells": [
  {
   "cell_type": "code",
   "execution_count": null,
   "id": "eb782906",
   "metadata": {},
   "outputs": [],
   "source": [
    "# Merge two sorted linked lists\n",
    "\n",
    "def merge_two_lists(l1, l2)\n",
    "    dump = ListNode.new(0)\n",
    "    tail = dump\n",
    "    while !l1.nil? && !l2.nil? do\n",
    "        if l1.val < l2.val\n",
    "            tail.next = l1\n",
    "            l1 = l1.next\n",
    "        else\n",
    "            tail.next = l2\n",
    "            l2 = l2.next\n",
    "        end\n",
    "        tail = tail.next\n",
    "    end\n",
    "    if !l1.nil?\n",
    "        tail.next = l1\n",
    "    else\n",
    "        tail.next = l2\n",
    "    end\n",
    "    dump.next\n",
    "end"
   ]
  },
  {
   "cell_type": "code",
   "execution_count": null,
   "id": "6314c8a9",
   "metadata": {},
   "outputs": [],
   "source": [
    "# middle linked list\n",
    "\n",
    "def middle_node(head)\n",
    "    slow = fast = head\n",
    "    while(fast != nil && fast.next != nil)\n",
    "        slow = slow.next\n",
    "        fast = fast.next.next\n",
    "    end\n",
    "    slow\n",
    "end"
   ]
  },
  {
   "cell_type": "code",
   "execution_count": null,
   "id": "ec51294c",
   "metadata": {},
   "outputs": [],
   "source": [
    "# reverse linked list\n",
    "\n",
    "def reverse_list(head)\n",
    "    current = head\n",
    "    prev = nil\n",
    "    while current\n",
    "        tmp = current.next\n",
    "        current.next = prev\n",
    "        prev = current\n",
    "        current = tmp\n",
    "    end\n",
    "    prev\n",
    "end"
   ]
  },
  {
   "cell_type": "code",
   "execution_count": null,
   "id": "e7f11efa",
   "metadata": {},
   "outputs": [],
   "source": [
    "# delete a node from a linked list (not given root)\n",
    "\n",
    "def delete_node(node)\n",
    "    node.val = node.next.val\n",
    "    node.next = node.next.next\n",
    "end"
   ]
  },
  {
   "cell_type": "code",
   "execution_count": null,
   "id": "376c746c",
   "metadata": {},
   "outputs": [],
   "source": [
    "# detect cycle\n",
    "\n",
    "def hasCycle(head)\n",
    "    return false if head.nil?\n",
    "    \n",
    "    slow_pointer = head\n",
    "    fast_pointer = head\n",
    "    \n",
    "    while fast_pointer.next && fast_pointer.next.next do\n",
    "        slow_pointer = slow_pointer.next\n",
    "        fast_pointer = fast_pointer.next.next \n",
    "        if slow_pointer == fast_pointer\n",
    "           return true \n",
    "        end\n",
    "    end\n",
    "    return false\n",
    "end\n",
    "\n",
    "# detect cycle and return nodewhere cycle starts\n",
    "\n",
    "def detectCycle(head)\n",
    "    return nil if head.nil?\n",
    "    \n",
    "    slow_pointer = head\n",
    "    index = 0\n",
    "    visited_nodes = {}\n",
    "    \n",
    "    while slow_pointer.next do\n",
    "        if visited_nodes[slow_pointer.object_id]\n",
    "            return visited_nodes[slow_pointer.object_id] \n",
    "        end\n",
    "        visited_nodes[slow_pointer.object_id] = slow_pointer\n",
    "        index += 1\n",
    "        slow_pointer = slow_pointer.next\n",
    "    end\n",
    "    return nil\n",
    "end"
   ]
  },
  {
   "cell_type": "code",
   "execution_count": null,
   "id": "7f93b69f",
   "metadata": {},
   "outputs": [],
   "source": []
  },
  {
   "cell_type": "code",
   "execution_count": null,
   "id": "365080ee",
   "metadata": {},
   "outputs": [],
   "source": []
  }
 ],
 "metadata": {
  "kernelspec": {
   "display_name": "Python 3 (ipykernel)",
   "language": "python",
   "name": "python3"
  },
  "language_info": {
   "codemirror_mode": {
    "name": "ipython",
    "version": 3
   },
   "file_extension": ".py",
   "mimetype": "text/x-python",
   "name": "python",
   "nbconvert_exporter": "python",
   "pygments_lexer": "ipython3",
   "version": "3.9.7"
  }
 },
 "nbformat": 4,
 "nbformat_minor": 5
}
