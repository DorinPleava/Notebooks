{
 "cells": [
  {
   "cell_type": "code",
   "execution_count": 4,
   "id": "a51afbf2",
   "metadata": {},
   "outputs": [
    {
     "data": {
      "text/plain": [
       "\"YES\""
      ]
     },
     "execution_count": 4,
     "metadata": {},
     "output_type": "execute_result"
    }
   ],
   "source": [
    "# Ballanced brakets ---> QUEUE\n",
    "\n",
    "def isBalanced(s)\n",
    "    parsed_string =[]\n",
    "    s.split('').each do |bracket|\n",
    "        \n",
    "        if parsed_string.last == '(' && bracket == ')'\n",
    "            parsed_string.pop\n",
    "        elsif parsed_string.last == '[' && bracket == ']'\n",
    "            parsed_string.pop\n",
    "        elsif parsed_string.last == '{' && bracket == '}'\n",
    "            parsed_string.pop\n",
    "        else\n",
    "            parsed_string.push(bracket)\n",
    "        end\n",
    "    end\n",
    "    \n",
    "    if parsed_string.length == 0\n",
    "        return \"YES\"\n",
    "    else\n",
    "        return \"NO\"\n",
    "    end\n",
    "\n",
    "end\n",
    "\n",
    "\n",
    "isBalanced(\"([{()}])()()((()))\")\n"
   ]
  },
  {
   "cell_type": "code",
   "execution_count": null,
   "id": "d4c3c1f3",
   "metadata": {},
   "outputs": [],
   "source": [
    "# Priority queue holds max values ordered\n",
    "class PriorityQueue\n",
    "  def initialize\n",
    "    @elements = [nil]\n",
    "  end\n",
    "\n",
    "  def <<(element)\n",
    "    @elements << element\n",
    "    # bubble up the element that we just added\n",
    "    bubble_up(@elements.size - 1)\n",
    "  end\n",
    "\n",
    "  def bubble_up(index)\n",
    "    parent_index = (index / 2)\n",
    "\n",
    "    # return if we reach the root element\n",
    "    return if index <= 1\n",
    "\n",
    "    # or if the parent is already greater than the child\n",
    "    return if @elements[parent_index] >= @elements[index]\n",
    "\n",
    "    # otherwise we exchange the child with the parent\n",
    "    exchange(index, parent_index)\n",
    "\n",
    "    # and keep bubbling up\n",
    "    bubble_up(parent_index)\n",
    "  end\n",
    "\n",
    "  def exchange(source, target)\n",
    "    @elements[source], @elements[target] = @elements[target], @elements[source]\n",
    "  end\n",
    "\n",
    "  def pop\n",
    "    # exchange the root with the last element\n",
    "    exchange(1, @elements.size - 1)\n",
    "\n",
    "    # remove the last element of the list\n",
    "    max = @elements.pop\n",
    "\n",
    "    # and make sure the tree is ordered again\n",
    "    bubble_down(1)\n",
    "    max\n",
    "  end\n",
    "\n",
    "  def bubble_down(index)\n",
    "    child_index = (index * 2)\n",
    "\n",
    "    # stop if we reach the bottom of the tree\n",
    "    return if child_index > @elements.size - 1\n",
    "\n",
    "    # make sure we get the largest child\n",
    "    not_the_last_element = child_index < @elements.size - 1\n",
    "    left_element = @elements[child_index]\n",
    "    right_element = @elements[child_index + 1]\n",
    "    child_index += 1 if not_the_last_element && right_element > left_element\n",
    "\n",
    "    # there is no need to continue if the parent element is already bigger\n",
    "    # then its children\n",
    "    return if @elements[index] >= @elements[child_index]\n",
    "\n",
    "    exchange(index, child_index)\n",
    "\n",
    "    # repeat the process until we reach a point where the parent\n",
    "    # is larger than its children\n",
    "    bubble_down(child_index)\n",
    "  end\n",
    "end\n"
   ]
  },
  {
   "cell_type": "code",
   "execution_count": null,
   "id": "e7c5ccf5",
   "metadata": {},
   "outputs": [],
   "source": []
  },
  {
   "cell_type": "code",
   "execution_count": null,
   "id": "b6af9ff6",
   "metadata": {},
   "outputs": [],
   "source": []
  },
  {
   "cell_type": "code",
   "execution_count": null,
   "id": "b288909f",
   "metadata": {},
   "outputs": [],
   "source": []
  },
  {
   "cell_type": "code",
   "execution_count": null,
   "id": "f8231887",
   "metadata": {},
   "outputs": [],
   "source": []
  },
  {
   "cell_type": "code",
   "execution_count": null,
   "id": "df72c1ba",
   "metadata": {},
   "outputs": [],
   "source": []
  },
  {
   "cell_type": "code",
   "execution_count": null,
   "id": "6e6e59cc",
   "metadata": {},
   "outputs": [],
   "source": []
  },
  {
   "cell_type": "code",
   "execution_count": null,
   "id": "c9183ceb",
   "metadata": {},
   "outputs": [],
   "source": []
  }
 ],
 "metadata": {
  "kernelspec": {
   "display_name": "Ruby 3.1.2",
   "language": "ruby",
   "name": "ruby"
  },
  "language_info": {
   "file_extension": ".rb",
   "mimetype": "application/x-ruby",
   "name": "ruby",
   "version": "3.1.2"
  }
 },
 "nbformat": 4,
 "nbformat_minor": 5
}
