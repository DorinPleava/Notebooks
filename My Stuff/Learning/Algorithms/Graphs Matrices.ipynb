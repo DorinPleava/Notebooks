{
 "cells": [
  {
   "cell_type": "code",
   "execution_count": 1,
   "id": "7cb19753",
   "metadata": {},
   "outputs": [
    {
     "data": {
      "text/plain": [
       ":maxRegion"
      ]
     },
     "execution_count": 1,
     "metadata": {},
     "output_type": "execute_result"
    }
   ],
   "source": [
    "# DFS: Connected Cell in a Grid\n",
    "\n",
    "# Input: \n",
    "\n",
    "# 1 1 0 0\n",
    "# 0 1 1 0\n",
    "# 0 0 1 0\n",
    "# 1 0 0 0\n",
    "\n",
    "# Output\n",
    "\n",
    "# 5\n",
    "\n",
    "def dfs(grid, visited, row, column)\n",
    "    return 0 if row < 0 || column < 0\n",
    "    return 0 if row >= grid.length\n",
    "    return 0 if column >= grid[grid.length-1].length\n",
    "    return 0 if grid[row][column] == 0\n",
    "    \n",
    "    grid[row][column] = 0\n",
    "    val = 1\n",
    "    -1.upto(1) do |x|\n",
    "        -1.upto(1) do |y|\n",
    "            unless x == row && y == column\n",
    "                val += dfs(grid, visited, row+x, column+y)\n",
    "            end\n",
    "        end\n",
    "    end\n",
    "    val\n",
    "end\n",
    "\n",
    "def maxRegion(grid)\n",
    "    max_connected = 0\n",
    "\n",
    "    visited = Array.new(grid.length) {Array.new(grid[grid.length-1].length) {0} }\n",
    "    grid.length.times do |row|\n",
    "        grid[row].length.times do |column|\n",
    "            # print(grid[row][column])\n",
    "            if grid[row][column]\n",
    "                max_connected = [max_connected, dfs(grid, visited, row, column)].max\n",
    "            end\n",
    "        end\n",
    "        puts(\"\\n\")\n",
    "    end\n",
    "    return max_connected\n",
    "end\n",
    "\n"
   ]
  },
  {
   "cell_type": "code",
   "execution_count": null,
   "id": "67d18d00",
   "metadata": {},
   "outputs": [],
   "source": []
  }
 ],
 "metadata": {
  "kernelspec": {
   "display_name": "Ruby 3.1.2",
   "language": "ruby",
   "name": "ruby"
  },
  "language_info": {
   "file_extension": ".rb",
   "mimetype": "application/x-ruby",
   "name": "ruby",
   "version": "3.1.2"
  }
 },
 "nbformat": 4,
 "nbformat_minor": 5
}
