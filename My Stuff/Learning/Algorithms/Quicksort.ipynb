{
 "cells": [
  {
   "cell_type": "markdown",
   "id": "389a7004",
   "metadata": {},
   "source": [
    "QuickSort is a Divide and Conquer algorithm. It picks an element as pivot and partitions the given array around the picked pivot."
   ]
  },
  {
   "cell_type": "code",
   "execution_count": 2,
   "id": "e1fc8b7d",
   "metadata": {},
   "outputs": [
    {
     "data": {
      "text/plain": [
       "[5, 32, 54, 1, 2, 6, 87, 43, 12, 15, 8, 100, 22]"
      ]
     },
     "execution_count": 2,
     "metadata": {},
     "output_type": "execute_result"
    }
   ],
   "source": [
    "unsorted_list = [5,32,54,1,2,6,87,43,12,15,8,100,22]"
   ]
  },
  {
   "cell_type": "code",
   "execution_count": 9,
   "id": "6fe0d1f8",
   "metadata": {},
   "outputs": [
    {
     "data": {
      "text/plain": [
       ":quick_sort"
      ]
     },
     "execution_count": 9,
     "metadata": {},
     "output_type": "execute_result"
    }
   ],
   "source": [
    "def quick_sort(array)\n",
    "  return array if array.length <= 1\n",
    "  pivot = array.pop\n",
    "  left, right = [], []\n",
    "  \n",
    "  array.each do |nr|\n",
    "    nr < pivot ? left.push(nr) : right.push(nr)\n",
    "  end\n",
    "  sorted_left = quick_sort(left)\n",
    "  sorted_right = quick_sort(right)\n",
    "  \n",
    "  return sorted_left + [pivot] + sorted_right\n",
    "end"
   ]
  },
  {
   "cell_type": "code",
   "execution_count": 10,
   "id": "36e8d548",
   "metadata": {},
   "outputs": [
    {
     "name": "stdout",
     "output_type": "stream",
     "text": [
      "1\n",
      "2\n",
      "5\n",
      "6\n",
      "12\n",
      "15\n",
      "32\n",
      "43\n",
      "54\n",
      "87\n"
     ]
    }
   ],
   "source": [
    "sorted_list = quick_sort(unsorted_list)\n",
    "puts sorted_list"
   ]
  }
 ],
 "metadata": {
  "kernelspec": {
   "display_name": "Ruby 3.1.2",
   "language": "ruby",
   "name": "ruby"
  },
  "language_info": {
   "file_extension": ".rb",
   "mimetype": "application/x-ruby",
   "name": "ruby",
   "version": "3.1.2"
  }
 },
 "nbformat": 4,
 "nbformat_minor": 5
}
