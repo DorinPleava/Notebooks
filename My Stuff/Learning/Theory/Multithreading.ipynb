{
 "cells": [
  {
   "cell_type": "markdown",
   "id": "78b22faf",
   "metadata": {},
   "source": [
    "## Ruby multithreadding\n",
    "- almost all ruby interpretors work with <b>green threads<b/> except JRuby\n",
    "- <b>Green threads</b> are \"user-level threads\". They are scheduled by an \"ordinary\" user-level process, not by the kernel. So they can be used to simulate multi-threading on platforms that don't provide that capability.\n",
    "- JRuby implements <b>threads as OS-level theads</b>, there are no \"green threads\" in it"
   ]
  },
  {
   "cell_type": "markdown",
   "id": "e8e5e14f",
   "metadata": {},
   "source": [
    "## Deadlock\n",
    "### Deadlock occurs when you have multiple locks locked by various threads in wrong order\n",
    "\n",
    "EX\n",
    "<p>Jack and Jill happens to want to make a sandwich at the same time. Both need a slice of bread, so they both goes to get the loaf of bread and a knife.\n",
    "\n",
    "Jack gets the knife first, while Jill gets the loaf of bread first. Now Jack tries to find the loaf of bread and Jill tries to find the knife, but both find that what they need to finish the task is already in use. If they both decide to wait until what they need is no longer in use, they will wait for each other forever. Deadlock.</p>\n",
    "\n",
    "### Solving Deadlocks\n",
    "- strict ordering of attempts to lock things\n",
    "- SQL solves deadlocks by terminating one process\n",
    "- \n",
    "\n",
    "## LIVELOCK \n",
    "### Livelock conditions can arise when two or more tasks depend on and use the some resource causing a circular dependency condition where those tasks continue running forever, thus blocking all lower priority level tasks from running (these lower priority tasks experience a condition called starvation)\n"
   ]
  },
  {
   "cell_type": "markdown",
   "id": "33294f73",
   "metadata": {},
   "source": [
    "## BLABLA\n",
    "\n",
    "### A race condition occurs when multiple concurrent threads race to be the first to run. If the thread that wins the race was not the one that was supposed to run first, the code may exhibit unexpected behavior. The problem can be resolved with synchronization.\n",
    "\n",
    "### Synchronization forces threads to run one at a time to prevent a race condition or multiple threads trying to perform the same task.\n",
    "\n",
    "### A synchronized block allows you to designate a particular portion of a method as synchronized. That is, only a single thread will be allowed to run until it completes, prioritizing that thread above others.\n",
    "\n",
    "### Thread States\n",
    "   - NEW — a new Thread instance that was not yet started via Thread.start()\n",
    "   - RUNNABLE — a running thread. It is called runnable because at any given time it could be either running or waiting for the next quantum of time from the thread scheduler. A NEW thread enters the RUNNABLE state when you call Thread.start() on it\n",
    "   - BLOCKED — a running thread becomes blocked if it needs to enter a synchronized section but cannot do that due to another thread holding the monitor of this section\n",
    "   - WAITING — a thread enters this state if it waits for another thread to perform a particular action. For instance, a thread enters this state upon calling the Object.wait() method on a monitor it holds, or the Thread.join() method on another thread\n",
    "   - TIMED_WAITING — same as the above, but a thread enters this state after calling timed versions of Thread.sleep(), Object.wait(), Thread.join() and some other methods\n",
    "   - TERMINATED — a thread has completed the execution of its Runnable.run() method and terminated"
   ]
  },
  {
   "cell_type": "markdown",
   "id": "03b6a6b0",
   "metadata": {},
   "source": []
  },
  {
   "cell_type": "markdown",
   "id": "ebae2d69",
   "metadata": {},
   "source": []
  },
  {
   "cell_type": "markdown",
   "id": "280f6387",
   "metadata": {},
   "source": []
  }
 ],
 "metadata": {
  "kernelspec": {
   "display_name": "Ruby 3.1.2",
   "language": "ruby",
   "name": "ruby"
  },
  "language_info": {
   "file_extension": ".rb",
   "mimetype": "application/x-ruby",
   "name": "ruby",
   "version": "3.1.2"
  }
 },
 "nbformat": 4,
 "nbformat_minor": 5
}
