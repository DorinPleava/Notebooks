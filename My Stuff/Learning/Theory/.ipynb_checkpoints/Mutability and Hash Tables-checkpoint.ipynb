{
 "cells": [
  {
   "cell_type": "markdown",
   "id": "b2ea6362",
   "metadata": {},
   "source": [
    "## IMUTABILTY\n",
    "\n",
    "- An object instance is immutable if its state cannot possibly be changed. An class is immutable if all instances of that class are guaranteed to be immutable, regardless of who might hold references to them\\\n",
    "- Immutable data structure are data structures, like lists, arrays, sets etc.\n",
    "- Instead of changing the data structure you make a new version of the data structure which is a separate value.\n",
    "\n"
   ]
  },
  {
   "cell_type": "markdown",
   "id": "60e613f8",
   "metadata": {},
   "source": [
    "## HASH TABLES\n",
    "\n",
    "### IMPLEMENTATION\n",
    "\n",
    "- A HashMap is really an array of special objects that ho ld both Key and Value.\n",
    "- The array has some amount of buckets (slots), say 16(the hashing algorithm should distribute keys equally). \n",
    "- The hashing algorithm is provided by the hashCode() method that every object has. Therefore, when you are writing a new Class, you should take care of proper hashCode() and equals() methods implementation. The default one (of the Object class) takes the memory pointer as a number. But that's not good for most of the classes we would like to use. For example, the String class uses an algorithm that makes the hash from all the characters in the string - think of it like this: hashCode = 1.char + 2.char + 3.char... (simplified). Therefore, two equal Strings, even though they are on a different location in the memory, have the same hashCode().\n",
    "- The result of hashCode(), say \"132\", is then the number of bucket where the object should be stored if we had an array that big. But we don't, ours is only 16 buckets long. So we use the obvious calculation 'hashcode % array.length = bucket' or '132 mod 16 = 4' and store the Key-Value pair in a bucket number 4.\n",
    "    - If there's no other pair yet, it's ok.\n",
    "    - If there's one with Key equal to the Key we have, we remove the old one.\n",
    "    - If there's another Key-Value pair (collision), we chain the new one after the old one into a linked list.\n",
    "- If the backing array becomes too full, so we would have to make too many linked lists, we make a new array with doubled length, rehash all the elements and add them into the new array, then we dispose the old one. This is most likely the most expensive operation on HashMap, so you want to tell your Maps how many buckets you'll use if you know it in before.\n",
    "- If somebody tries to get a value, he provides a key, we hash it, mod it, and then go through the potential linked list for the exact match."
   ]
  },
  {
   "cell_type": "markdown",
   "id": "5319716f",
   "metadata": {},
   "source": [
    "## BLABLA\n",
    "\n",
    "- Keys in Hash data structure are immutable. If they were mutable then the hashcode() of the key will not be consostent over time and will cause lookup failures from the data structure\n",
    "- Instances of the imutable class can cannot be changed. Mutability refers to instances, not the the class itself.\n",
    "- In most languages, string literals are also immutable, just like numbers and symbols. In Ruby, however, all strings are mutable by default."
   ]
  }
 ],
 "metadata": {
  "kernelspec": {
   "display_name": "Ruby 3.1.2",
   "language": "ruby",
   "name": "ruby"
  },
  "language_info": {
   "file_extension": ".rb",
   "mimetype": "application/x-ruby",
   "name": "ruby",
   "version": "3.1.2"
  }
 },
 "nbformat": 4,
 "nbformat_minor": 5
}
