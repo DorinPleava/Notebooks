{
 "cells": [
  {
   "cell_type": "markdown",
   "id": "4478a6d3",
   "metadata": {},
   "source": [
    "# SOLID Principles\n"
   ]
  }
 ],
 "metadata": {
  "kernelspec": {
   "display_name": "Ruby 3.1.2",
   "language": "ruby",
   "name": "ruby"
  },
  "language_info": {
   "file_extension": ".rb",
   "mimetype": "application/x-ruby",
   "name": "ruby",
   "version": "3.1.2"
  }
 },
 "nbformat": 4,
 "nbformat_minor": 5
}
