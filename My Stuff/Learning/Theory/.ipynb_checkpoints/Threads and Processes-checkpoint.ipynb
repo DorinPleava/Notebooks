{
 "cells": [
  {
   "cell_type": "markdown",
   "id": "82ae0d2a",
   "metadata": {},
   "source": [
    "### Process\n",
    "- Processes are basically the programs that are dispatched from the ready state and are scheduled in the CPU for execution.\n",
    "- A process can create other processes which are known as Child Processes.\n",
    "- Processes have their own separate heaps, unlike threads\n",
    "    - Where instantiated objects are saved in memory\n",
    "    - Not the same as heap data structure\n",
    "    - It is a pile of memory space available to programmers to allocated and de-allocate\n",
    "- A process's address space is divided into four segments (text/code, data, stack and heap)\n",
    "    - text or code - the OS will write-protect this section, and since it's immutable, it can also share it between multiple processes or threads running the same executable\n",
    "    - data - the OS will map this r/w and won't directly1 share it\n",
    "    - bss - this section consists of zero-initialized data.\n",
    "    - stack - typically separated from the program, it generally grows downward from higher addresses\n",
    "    \n",
    "### Threads\n",
    "- Threads are workers, or units of execution.\n",
    "- Every process has at least one thread & you can create more on demand.\n",
    "- Threads are an operating environment feature, rather than a CPU feature (though the CPU typically has operations that make threads efficient).\n",
    "- A thread has three states: Running, Ready, and Blocked. \n",
    "- Each thread has its own call stack\n",
    "- A call stack is a stack data structure that stores information about the active subroutines of a computer program.\n",
    "- Stacks and registers can't be shared among the threads. Each thread has its own stack and registers\n",
    "- Threads share the same virtual address-space, process don't."
   ]
  },
  {
   "cell_type": "markdown",
   "id": "f90549f2",
   "metadata": {},
   "source": [
    "# Process vs Thread\n",
    "<figure class=\"table\"><table><thead><tr><th>S.NO</th><th>Process</th><th>Thread</th></tr></thead><tbody><tr class=\"SauronMutated\" style=\"background-color: rgb\n",
    "    !important;\"><th>1.</th><td>Process means any program is in execution.</td><td>Thread means a segment of a process.</td></tr><tr class=\"SauronMutated\" style=\"background-color: rgb !important;\"><th>2.</th><td>The process takes more time to terminate.</td><td>The thread takes less time to terminate.</td></tr><tr class=\"SauronMutated\" style=\"background-color: rgb !important;\"><th>3.</th><td>It takes more time for creation.</td><td>It takes less time for creation.</td></tr><tr class=\"SauronMutated\" style=\"background-color: rgb !important;\"><th>4.</th><td>It also takes more time for context switching.</td><td>It takes less time for context switching.</td></tr><tr class=\"SauronMutated\" style=\"background-color: rgb !important;\"><th>5.</th><td>The process is less efficient in terms of communication.</td><td>Thread is more efficient in terms of communication.</td></tr><tr class=\"SauronMutated\" style=\"background-color: rgb !important;\"><th>6.&nbsp;</th><td>Multiprogramming holds the concepts of multi-process.</td><td>We don’t need multi programs in action for multiple threads because a single process consists of multiple threads.</td></tr><tr class=\"SauronMutated\" style=\"background-color:rgb !important;\"><th>7.</th><td>The process is isolated.</td><td>Threads share memory.</td></tr><tr class=\"SauronMutated\" style=\"background-color: rgb !important;\"><th>8.</th><td>The process is called the heavyweight process.</td><td>A Thread is lightweight as each thread in a process shares code, data, and resources.</td></tr><tr class=\"SauronMutated\" style=\"background-color: rgb !important;\"><th>9.</th><td>Process switching uses an interface in an operating system.</td><td>Thread switching does not require calling an operating system and causes an interrupt to the kernel.</td></tr><tr class=\"SauronMutated\" style=\"background-color: rgb !important;\"><th>10.</th><td>If one process is blocked then it will not affect the execution of other processes&nbsp;</td><td>If a user-level thread is blocked, then all other user-level threads are blocked.&nbsp;</td></tr><tr class=\"SauronMutated\" style=\"background-color: rgb !important;\"><th>11.</th><td>The process has its own Process Control Block, Stack, and Address Space.</td><td>Thread has Parents’ PCB, its own Thread Control Block, and Stack and common Address space.</td></tr><tr class=\"SauronMutated\" style=\"background-color: rgb !important;\"><th>12.</th><td>Changes to the parent process do not affect child processes.</td><td>Since all threads of the same process share address space and other resources so any changes to the main thread may affect the behavior of the other threads of the process.</td></tr></tbody></table></figure>\n",
    "\n",
    "# Stack vs Heap\n",
    "<figure class=\"table\"><table><thead><tr><th class=\"SauronMutated\" style=\"color: rgb(158, 162, 174) !important; background-color: rgb(28, 28, 28) !important;\">Parameter</th><th class=\"SauronMutated\" style=\"color: rgb(158, 162, 174) !important; background-color: rgb(28, 28, 28) !important;\">STACK</th><th class=\"SauronMutated\" style=\"color: rgb(158, 162, 174) !important; background-color: rgb(28, 28, 28) !important;\">HEAP</th></tr></thead><tbody><tr><td>Basic</td><td>Memory is allocated in a contiguous block.</td><td>Memory is allocated in any random order.</td></tr><tr><td>Allocation and De-allocation</td><td>Automatic by compiler instructions.</td><td>Manual by the programmer.</td></tr><tr><td>Cost</td><td>Less</td><td>More</td></tr><tr><td>Implementation</td><td>Easy</td><td>Hard</td></tr><tr><td>Access time</td><td>Faster</td><td>Slower</td></tr><tr><td>Main Issue</td><td>Shortage of memory</td><td>Memory fragmentation</td></tr><tr><td>Locality of reference</td><td>Excellent</td><td>Adequate</td></tr><tr><td>Safety</td><td>Thread safe, data stored can only be accessed by owner</td><td>Not Thread safe, data stored visible to all threads</td></tr><tr><td>Flexibility</td><td>Fixed-size</td><td>Resizing is possible</td></tr><tr><td>Data type structure</td><td>Linear</td><td>Hierarchical</td></tr></tbody></table></figure>"
   ]
  },
  {
   "cell_type": "markdown",
   "id": "0c078b85",
   "metadata": {},
   "source": [
    "## Sharing Memory\n",
    "\n",
    "- Shared memory is the fastest interprocess communication mechanism. \n",
    "- The operating system maps a memory segment in the address space of several processes, so that several processes can read and write in that memory segment without calling operating system functions. \n",
    "- We need some kind of synchronization between processes that read and write shared memory.\n"
   ]
  },
  {
   "cell_type": "markdown",
   "id": "556de97c",
   "metadata": {},
   "source": [
    "## BLABLA\n",
    "\n",
    "- Processes and threads can be considered similar, but a big difference is that a process is much larger than a thread. For that reason, it is not good to have switching between processes. There is too much information in a process that would have to be saved and reloaded each time the CPU decides to switch processes.\n",
    "- A thread on the other hand is smaller and so it is better for switching. A process may have multiple threads that run concurrently, meaning not at the same exact time, but run together and switch between them. The context switching here is better because a thread won't have as much information to store/reload.\n",
    "- If you only have a single core then you can only do concurrent execution, for the most part. Once you have multiple cores you can have threads run on both cores and thus have simultaneous execution. It is up to the Operating System to schedule when threads run, when processes get to run, when to switch, how to switch them, etc. The Operating System gives you the illusion that work is being done simultaneously when this is not always the case."
   ]
  }
 ],
 "metadata": {
  "kernelspec": {
   "display_name": "Ruby 3.1.2",
   "language": "ruby",
   "name": "ruby"
  },
  "language_info": {
   "file_extension": ".rb",
   "mimetype": "application/x-ruby",
   "name": "ruby",
   "version": "3.1.2"
  }
 },
 "nbformat": 4,
 "nbformat_minor": 5
}
