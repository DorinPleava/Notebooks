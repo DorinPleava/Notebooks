{
 "cells": [
  {
   "cell_type": "markdown",
   "id": "4478a6d3",
   "metadata": {},
   "source": [
    "# SOLID Principles\n"
   ]
  },
  {
   "cell_type": "markdown",
   "id": "81c745ba",
   "metadata": {},
   "source": [
    "The following five concepts make up our SOLID principles:\n",
    "\n",
    "- Single Responsibility\n",
    "- Open/Closed Principle\n",
    "- Liskov Substitution\n",
    "- Interface Segregation\n",
    "- Dependency Inversion\n"
   ]
  },
  {
   "cell_type": "markdown",
   "id": "c9eef236",
   "metadata": {},
   "source": [
    "### Single Responsibility\n",
    "##### A class should only have one responsibility. Furthermore, it should only have one reason to change\n",
    "\n",
    "BLABLA\n",
    "Benefits:\n",
    "\n",
    "- Testing – A class with one responsibility will have far fewer test cases.\n",
    "- Lower coupling – Less functionality in a single class will have fewer dependencies.\n",
    "- Organization – Smaller, well-organized classes are easier to search than monolithic ones."
   ]
  },
  {
   "cell_type": "markdown",
   "id": "ea435dd7",
   "metadata": {},
   "source": [
    "### Open/Closed Principle\n",
    "##### classes should be open for extension but closed for modification. In doing so, we stop ourselves from modifying existing code and causing potential new bugs\n",
    "\n",
    "BLABLA\n"
   ]
  },
  {
   "cell_type": "markdown",
   "id": "2841024c",
   "metadata": {},
   "source": [
    "### Liskov Substitution\n",
    "#####  if class A is a subtype of class B, we should be able to replace B with A without disrupting the behavior of our program.\n",
    "\n",
    "BLABLA"
   ]
  },
  {
   "cell_type": "markdown",
   "id": "d2ec1973",
   "metadata": {},
   "source": [
    "### Interface Segregation\n",
    "##### larger interfaces should be split into smaller ones. By doing so, we can ensure that implementing classes only need to be concerned about the methods that are of interest to them.\n",
    "\n",
    "BLABLA"
   ]
  },
  {
   "cell_type": "markdown",
   "id": "bedee8f5",
   "metadata": {},
   "source": [
    "### Dependency Inversion\n",
    "##### The principle of dependency inversion refers to the decoupling of software modules. This way, instead of high-level modules depending on low-level modules, both will depend on abstractions.\n",
    "\n",
    "BLABLA"
   ]
  }
 ],
 "metadata": {
  "kernelspec": {
   "display_name": "Ruby 3.1.2",
   "language": "ruby",
   "name": "ruby"
  },
  "language_info": {
   "file_extension": ".rb",
   "mimetype": "application/x-ruby",
   "name": "ruby",
   "version": "3.1.2"
  }
 },
 "nbformat": 4,
 "nbformat_minor": 5
}
