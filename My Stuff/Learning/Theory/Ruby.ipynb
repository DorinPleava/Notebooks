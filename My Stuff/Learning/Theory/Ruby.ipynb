{
 "cells": [
  {
   "cell_type": "markdown",
   "id": "67dbffd8",
   "metadata": {},
   "source": [
    "## Modules vs classes"
   ]
  },
  {
   "cell_type": "markdown",
   "id": "73249e6a",
   "metadata": {},
   "source": [
    "Modules are collections of methods and constants. They cannot generate instances.\n",
    "Classes may generate instances (objects), and have per-instance state (instance variables)"
   ]
  },
  {
   "cell_type": "code",
   "execution_count": null,
   "id": "fe3a8736",
   "metadata": {},
   "outputs": [],
   "source": []
  },
  {
   "cell_type": "markdown",
   "id": "438da6f9",
   "metadata": {},
   "source": [
    "## inheritance vs composition"
   ]
  },
  {
   "cell_type": "markdown",
   "id": "29cd5780",
   "metadata": {},
   "source": [
    "Inheritance is defined as an IS-A relationship.\n",
    "Composition is defined as a HAS-A relationship.\n",
    "\n",
    "It is better to use inheritance when your hierarchy represents an IS-A relationship.\n",
    "Inheritance is a great choice if your object already has a single responsibility and you really just want specializations.\n",
    "\n",
    "It is better to use composition when your hierarchy represents a HAS-A relationship.\n",
    "Composition breaks up functionality into distinct responsibilities.\n",
    "\n",
    "\"I have an app with a single model that contains over two thousand lines. What do you think is the problem there and what are some ways we could make the model more manageable?\" I'd hope for that question to be followed up with a nice discussion about the different approaches to separate concerns based on responsibilities of the business logic. I.e. generalize view logic into helpers, model-specific view logic into decorators or view objects, split single model into multiple models each with smaller responsibility, the ideas go on and on. That might tie into inheritance/composition or an entity-relationship/database discussion, Lot's of great ways to segue these open ended questions into other aspects of Rails and for both of us to learn about each other's skills, preferences and trade new ideas or knowledge."
   ]
  },
  {
   "cell_type": "markdown",
   "id": "cf6e1faa",
   "metadata": {},
   "source": [
    "## mixins"
   ]
  },
  {
   "cell_type": "markdown",
   "id": "bf6fd3d4",
   "metadata": {},
   "source": [
    "Modules may be mixed in to classes and other modules. The mixed in module’s constants and methods blend into that class’s own, augmenting the class’s functionality. Classes, however, cannot be mixed in to anything.\n",
    "\n",
    "A class may inherit from another class, but not from a module.\n",
    "\n",
    "A module may not inherit from anything.\n",
    "\n",
    "Can you subclass modules?\n",
    "No. However, a module may be included in a class or another module to mimic multiple inheritance (the mixin facility)."
   ]
  },
  {
   "cell_type": "markdown",
   "id": "9a1928a6",
   "metadata": {},
   "source": [
    "Code organization discussion in a Rails app involving models, controllers, helpers, decorators, services, view objects, api wrappers, etc. and pros/cons of each"
   ]
  },
  {
   "cell_type": "code",
   "execution_count": null,
   "id": "9fa623b5",
   "metadata": {},
   "outputs": [],
   "source": []
  },
  {
   "cell_type": "code",
   "execution_count": null,
   "id": "48aa078f",
   "metadata": {},
   "outputs": [],
   "source": [
    "Testing. Unit, integration and JS testing preferences and why."
   ]
  },
  {
   "cell_type": "code",
   "execution_count": null,
   "id": "79fa4478",
   "metadata": {},
   "outputs": [],
   "source": []
  },
  {
   "cell_type": "code",
   "execution_count": null,
   "id": "92fbedc6",
   "metadata": {},
   "outputs": [],
   "source": [
    "Databases. Pros and cons of AR vs raw sql. Indexes, caching, eager loading, modeling architecture"
   ]
  },
  {
   "cell_type": "code",
   "execution_count": null,
   "id": "b41eb4d7",
   "metadata": {},
   "outputs": [],
   "source": []
  },
  {
   "cell_type": "markdown",
   "id": "39eb3d7b",
   "metadata": {},
   "source": [
    "General discussion about various problems they've faced, their favorite Rails patterns, favorite gems, code/app samples they've provided etc."
   ]
  },
  {
   "cell_type": "markdown",
   "id": "81bf3a8f",
   "metadata": {},
   "source": [
    "Learn how to build simple versions of these data structures from memory:\n",
    "\n",
    "- Linked list\n",
    "- Stack\n",
    "- Queue\n",
    "- Circular linked list\n",
    "- Doubly circular linked list\n",
    "- Binary search tree\n",
    "- Graph"
   ]
  }
 ],
 "metadata": {
  "kernelspec": {
   "display_name": "Ruby 3.1.2",
   "language": "ruby",
   "name": "ruby"
  },
  "language_info": {
   "file_extension": ".rb",
   "mimetype": "application/x-ruby",
   "name": "ruby",
   "version": "3.1.2"
  }
 },
 "nbformat": 4,
 "nbformat_minor": 5
}
