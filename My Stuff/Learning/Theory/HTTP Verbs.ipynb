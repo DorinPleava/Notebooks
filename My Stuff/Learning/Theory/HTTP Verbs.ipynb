{
 "cells": [
  {
   "cell_type": "markdown",
   "id": "69f6628e",
   "metadata": {},
   "source": [
    "## GET\n",
    "The GET method is used to retrieve information identified by Request-URL. It is the primary mode of information retrieval. It doesn’t change the state of the requested resource and is said to be a safe method. If the Request URL refers to a data-producing process, the produced data will be returned in response instead of the source text, unless the text is the output of a process.<b>IDEMPOTENT</b>\n",
    " \n",
    "## POST\n",
    "The POST method is used to send data to the server as a request body. This method indicates that the data in the body of the request is intended to be accepted and most likely to be stored in the server. The Content-Type header indicates the type of the body of the request. It is mostly used while uploading a file or while submitting a complete web form. Responses to the method will not be cacheable until the response contains appropriate Cache-Control or Expires header fields. Use POST for CREATE operations.\n",
    " \n",
    "## PUT\n",
    "The PUT method is used to replace the already existing state of the resource or create the resource if the resource doesn’t exist (decided by the origin server) with the request payload. It can be used to create resource (idempotency helps to retry the creation) <b>IDEMPOTENT</b> Needs to send all resource to replace. Use PUT for UPDATE operations\n",
    " \n",
    "## PATCH\n",
    "The PATCH method is used to make a partial update to a resource. It can be considered as an instruction set that describes the modification of data already present on the server to produce a new version of the data and it is not considered as the complete resource.\n",
    " \n",
    "## DELETE\n",
    "The DELETE method is used to delete a specified resource on the origin server. The client cannot be assured that the operation was performed, even though the status code which is returned from the server indicates it.<b>IDEMPOTENT</b>\n"
   ]
  }
 ],
 "metadata": {
  "kernelspec": {
   "display_name": "Ruby 3.1.2",
   "language": "ruby",
   "name": "ruby"
  },
  "language_info": {
   "file_extension": ".rb",
   "mimetype": "application/x-ruby",
   "name": "ruby",
   "version": "3.1.2"
  }
 },
 "nbformat": 4,
 "nbformat_minor": 5
}
