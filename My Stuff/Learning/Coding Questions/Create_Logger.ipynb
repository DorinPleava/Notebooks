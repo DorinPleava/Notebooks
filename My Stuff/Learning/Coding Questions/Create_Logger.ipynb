{
 "cells": [
  {
   "cell_type": "markdown",
   "id": "7c7398c4",
   "metadata": {},
   "source": [
    "Implement a logger (using SOLID and OOP)"
   ]
  },
  {
   "cell_type": "markdown",
   "id": "a7eff823",
   "metadata": {},
   "source": [
    "### What should it do\n",
    "- log into multiple sources at once(console, write to file, send as request)\n",
    "- one logger per app\n",
    "- have log level based on env variable or a parameter\n",
    "- load settings from file/parameters\n",
    "\n"
   ]
  },
  {
   "cell_type": "code",
   "execution_count": null,
   "id": "b92dc01b",
   "metadata": {},
   "outputs": [],
   "source": [
    "### How it should be used\n",
    "\n",
    "# create a logger singleton\n",
    "# logger = Logger.new()\n",
    "\n",
    "# without parameters it searches for a file, without file it sets default settings\n",
    "# with a parameter, if it is a file, it loads settings from filePath, if it is a hash, it uses those settings\n",
    "\n",
    "# always show logs based on a environment variable\n",
    "# logger.log(Logger:WARN \"Hello Warn\") \n",
    "# logger.log(Logger:DEBUG \"Hello Debug\")  \n",
    "# logger.log(Logger:INFO \"Hello Info\") \n",
    "# logger.log(Logger:ERROR \"Hello Error\") \n",
    "\n",
    "# it should only log \"Hello Warn\" and \"Hello Error\" if log level is >= WARN\n",
    "# log levels:\n",
    "# 0-FATAL -> 1-ERROR -> 2-WARN -> 3-INFO -> 4-DEBUG\n",
    "# if 0 log_level is set show all logs\n",
    "# if 2 log_level is set show logs until 2 level\n",
    "\n",
    "# logger can have an array of ways to output\n",
    "# use strategy pattern to easyly extend and switch loggingOutputs on the fly\n",
    "# logger.addOutputStrategy(FileLoggerStrategy.new)\n",
    "# logger.addOutputStrategy(ConsoleLoggerStrategy.new)\n",
    "\n",
    "# now logger.log(Logger:WARN, \"hello Warn\") will log on console and a file\n",
    "# now logger.log(Logger:WARN, \"hello Warn\", [ConsoleLoggerStrategy.new]) will log on console only\n",
    "\n",
    "\n",
    "\n",
    "\n",
    "# load settings from config parameter\n",
    "# logger = Logger.new(config:{})\n",
    "\n",
    "# load settings from file\n",
    "# logger = Logger.new(file_path)\n",
    "\n",
    "\n",
    "# consoleLog = ConsoleLoggerStrategy.new\n",
    "# consoleLog = HttpLoggerStrategy.new\n",
    "# fileLog = FileLoggerStrategy.new\n",
    "\n",
    "\n",
    "\n",
    "# these logging strategyes overwrites the default ones\n",
    "# logger.log(log_level, message, [consoleLog, consoleLog, fileLog])"
   ]
  },
  {
   "cell_type": "code",
   "execution_count": 6,
   "id": "4e037b84",
   "metadata": {},
   "outputs": [
    {
     "name": "stderr",
     "output_type": "stream",
     "text": [
      "(irb):12: warning: already initialized constant #<Class:0x000000010c03a680>::Logger::FATAL\n",
      "(irb):12: warning: previous definition of FATAL was here\n",
      "(irb):12: warning: already initialized constant #<Class:0x000000010c03a680>::Logger::ERROR\n",
      "(irb):12: warning: previous definition of ERROR was here\n",
      "(irb):12: warning: already initialized constant #<Class:0x000000010c03a680>::Logger::WARN\n",
      "(irb):12: warning: previous definition of WARN was here\n",
      "(irb):12: warning: already initialized constant #<Class:0x000000010c03a680>::Logger::INFO\n",
      "(irb):12: warning: previous definition of INFO was here\n",
      "(irb):12: warning: already initialized constant #<Class:0x000000010c03a680>::Logger::DEBUG\n",
      "(irb):12: warning: previous definition of DEBUG was here\n",
      "(irb):12: warning: already initialized constant #<Class:0x000000010c03a680>::Logger::LOG_LEVEL_ENUM\n",
      "(irb):12: warning: previous definition of LOG_LEVEL_ENUM was here\n"
     ]
    },
    {
     "data": {
      "text/plain": [
       "[#<#<Class:0x000000010c03a680>::ConsoleLoggerStrategy:0x000000010969ff78>, #<#<Class:0x000000010c03a680>::PrettyConsoleLoggerStrategy:0x000000010969fe88>]"
      ]
     },
     "execution_count": 6,
     "metadata": {},
     "output_type": "execute_result"
    }
   ],
   "source": [
    "# Logger class that can use any strategy\n",
    "# maybe it can use multiple strategies\n",
    "\n",
    "require 'singleton'\n",
    "\n",
    "class Logger \n",
    "  # mixin the singleton module so we do not have to do private constructor + method for getting instance\n",
    "  include Singleton\n",
    "  \n",
    "  attr_reader :config\n",
    "  attr_reader :loggerOutputStrategies \n",
    "  \n",
    "  LOG_LEVEL_ENUM = [FATAL=0, ERROR=1, WARN=2, INFO=3, DEBUG=4]\n",
    "  @config = {}\n",
    "  @loggerOutputStrategies = []\n",
    "\n",
    "   \n",
    "  def load_config(config)\n",
    "#     fi config is file load json file\n",
    "#     this.config = File.load(config) if IsFileName(config)\n",
    "#     load config if it is a hash of settings\n",
    "    @loggerOutputStrategies = []\n",
    "    @config = config\n",
    "#     maybe add checks to verify this.config has everithing it needs\n",
    "  end\n",
    "  \n",
    "  def set_log_level(level)\n",
    "\n",
    "#     check if level is number\n",
    "    \n",
    "#     check if level is from LOG_LEVEL_ENUM\n",
    "    \n",
    "    @config[\"log_level\"] = level\n",
    "  end\n",
    "  \n",
    "  def addLoggingStrategy(loggerStrategy)\n",
    "    if @loggerOutputStrategies.nil?\n",
    "      @loggerOutputStrategies = []\n",
    "      @loggerOutputStrategies << loggerStrategy\n",
    "    else\n",
    "      @loggerOutputStrategies << loggerStrategy\n",
    "    end\n",
    "  end\n",
    "  \n",
    "  def log(message, log_level=4)\n",
    "\n",
    "    @loggerOutputStrategies.each do |loggerOutputStrategy|\n",
    "#       logs message awith each logger strategy\n",
    "      \n",
    "#       if log_level is defined as parameter, use that\n",
    "      if \n",
    "#       else use log_level from config\n",
    "      loggerOutputStrategy.log(message)\n",
    "    end\n",
    "  end\n",
    "end\n",
    "\n",
    "class LoggerStrategy\n",
    "#   this is abstract but ruby does not have abstract, so just raise\n",
    "  def log(message)\n",
    "    raise \"this method is abstract\"\n",
    "  end\n",
    "end\n",
    "\n",
    "class ConsoleLoggerStrategy < LoggerStrategy\n",
    "  def log(message)\n",
    "    puts(\"From ConsoleStrategy: #{message}\")\n",
    "  end\n",
    "end\n",
    "\n",
    "class PrettyConsoleLoggerStrategy < LoggerStrategy\n",
    "  def log(message)\n",
    "    puts(\"From PrettyConsoleStrategy: #{message}\")\n",
    "  end\n",
    "end\n",
    "\n",
    "logger = Logger.instance\n",
    "consoleLogger = ConsoleLoggerStrategy.new\n",
    "prettyConsoleLogger = PrettyConsoleLoggerStrategy.new\n",
    "logger.addLoggingStrategy(consoleLogger)\n",
    "logger.addLoggingStrategy(prettyConsoleLogger)"
   ]
  },
  {
   "cell_type": "code",
   "execution_count": 8,
   "id": "a4707136",
   "metadata": {},
   "outputs": [
    {
     "name": "stdout",
     "output_type": "stream",
     "text": [
      "From ConsoleStrategy: hello\n",
      "From PrettyConsoleStrategy: hello\n"
     ]
    },
    {
     "data": {
      "text/plain": [
       "[#<#<Class:0x000000010c03a680>::ConsoleLoggerStrategy:0x000000010969ff78>, #<#<Class:0x000000010c03a680>::PrettyConsoleLoggerStrategy:0x000000010969fe88>]"
      ]
     },
     "execution_count": 8,
     "metadata": {},
     "output_type": "execute_result"
    }
   ],
   "source": [
    "logger.log(\"hello\")"
   ]
  }
 ],
 "metadata": {
  "kernelspec": {
   "display_name": "Ruby 3.1.2",
   "language": "ruby",
   "name": "ruby"
  },
  "language_info": {
   "file_extension": ".rb",
   "mimetype": "application/x-ruby",
   "name": "ruby",
   "version": "3.1.2"
  }
 },
 "nbformat": 4,
 "nbformat_minor": 5
}
